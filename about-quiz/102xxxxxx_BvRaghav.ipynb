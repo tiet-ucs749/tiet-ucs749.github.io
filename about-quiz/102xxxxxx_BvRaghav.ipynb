{
  "nbformat": 4,
  "nbformat_minor": 0,
  "metadata": {
    "colab": {
      "provenance": [],
      "authorship_tag": "ABX9TyPBa5cQti/5iutD3+iAGi78",
      "include_colab_link": true
    },
    "kernelspec": {
      "name": "python3",
      "display_name": "Python 3"
    },
    "language_info": {
      "name": "python"
    }
  },
  "cells": [
    {
      "cell_type": "markdown",
      "metadata": {
        "id": "view-in-github",
        "colab_type": "text"
      },
      "source": [
        "<a href=\"https://colab.research.google.com/github/tiet-ucs749/tiet-ucs749.github.io/blob/main/about-quiz/102xxxxxx_BvRaghav.ipynb\" target=\"_parent\"><img src=\"https://colab.research.google.com/assets/colab-badge.svg\" alt=\"Open In Colab\"/></a>"
      ]
    },
    {
      "cell_type": "markdown",
      "source": [
        "Name: Raghav B.V.  \n",
        "Email: bv.raghav@thapar.edu  \n",
        "Roll No: 102xxxxxx  \n",
        "Group: 4COXX"
      ],
      "metadata": {
        "id": "JxSGFfaneMt9"
      }
    },
    {
      "cell_type": "markdown",
      "source": [
        "## Question\n",
        "\n",
        "Given the dimensionality d of inputs, a sequence H of channel size for each hidden layer, and number of classes C, define a function to\n",
        "\n",
        "Take as argument a vector of raw inputs x;\n",
        "Define a neural network classifier with d input channels, len(H) hidden layers, each subsequent layer bearing [h1,h2,...] channels finally resulting in C logits corresponding to each class;\n",
        "Activate each intermediate layer with tanh\n",
        " activation; and\n",
        "Return the logits.\n",
        "The function shall be tested for consistency, correctness and efficiency as applicable.\n",
        "\n",
        "Use PyTorch/Tensorflow for implementation. Use of internet resources is dicouraged in the interest of time, though not prohibited."
      ],
      "metadata": {
        "id": "4rz1YOxxf4ON"
      }
    },
    {
      "cell_type": "code",
      "execution_count": 1,
      "metadata": {
        "id": "gEwtgNH5dtho"
      },
      "outputs": [],
      "source": [
        "import torch\n",
        "\n",
        "def createNnClassifier(d,H,C) :\n",
        "  pass"
      ]
    }
  ]
}